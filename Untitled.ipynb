{
 "cells": [
  {
   "cell_type": "code",
   "execution_count": 1,
   "id": "b1bc54bf-8068-4674-bed5-68e8517e3820",
   "metadata": {},
   "outputs": [],
   "source": [
    "import pandas as pd\n",
    "import os\n",
    "import matplotlib.pyplot as plt\n",
    "import numpy as np"
   ]
  },
  {
   "cell_type": "code",
   "execution_count": 2,
   "id": "64683df6-500a-4d0d-b516-98afa0ce97cf",
   "metadata": {},
   "outputs": [
    {
     "data": {
      "text/plain": [
       "['.ipynb_checkpoints',\n",
       " 'app_m.csv',\n",
       " 'project.html',\n",
       " 'year_2021.csv',\n",
       " '아파트 매매 2020.xlsx - 아파트(매매) 실거래가.csv']"
      ]
     },
     "execution_count": 2,
     "metadata": {},
     "output_type": "execute_result"
    }
   ],
   "source": [
    "file_names = os.listdir('./미니/')\n",
    "file_names"
   ]
  },
  {
   "cell_type": "code",
   "execution_count": 3,
   "id": "7907cd60-e528-45cc-8435-2c06874b11ce",
   "metadata": {},
   "outputs": [
    {
     "name": "stdout",
     "output_type": "stream",
     "text": [
      ".ipynb_checkpoints\n",
      "app_m.csv\n",
      "project.html\n",
      "year_2021.csv\n",
      "아파트 매매 2020.xlsx - 아파트(매매) 실거래가.csv\n"
     ]
    }
   ],
   "source": [
    "for fn in file_names:\n",
    "    print(fn)"
   ]
  },
  {
   "cell_type": "code",
   "execution_count": 4,
   "id": "7332e669-567e-4733-9885-404f91495be7",
   "metadata": {},
   "outputs": [],
   "source": [
    "gj_df = pd.read_csv(\"./gwangju_apt.csv\",encoding = 'utf-8',thousands = ',')\n",
    "df_2020 = pd.read_csv(f'./미니/아파트 매매 2020.xlsx - 아파트(매매) 실거래가.csv',encoding = 'utf-8',thousands = ',')\n",
    "df_2021 = pd.read_csv(f'./미니/year_2021.csv',encoding = 'utf-8',thousands = ',')\n",
    "df_2022 = pd.read_csv(f'./미니/app_m.csv',encoding = 'utf-8',thousands = ',')"
   ]
  },
  {
   "cell_type": "code",
   "execution_count": 5,
   "id": "26c787ca-aafc-48cf-972b-97381814ac79",
   "metadata": {},
   "outputs": [],
   "source": [
    "#거래금액의 데이터 타입변경\n",
    "gj_df[\"거래금액(만원)\"]=gj_df[\"거래금액(만원)\"].astype(\"float\",)"
   ]
  },
  {
   "cell_type": "code",
   "execution_count": 6,
   "id": "c0214bb8-58cd-4beb-927f-259a71d85a98",
   "metadata": {},
   "outputs": [
    {
     "data": {
      "text/plain": [
       "<bound method Series.info of 0        24500.0\n",
       "1        10800.0\n",
       "2        12000.0\n",
       "3        20800.0\n",
       "4        26000.0\n",
       "          ...   \n",
       "82549    17000.0\n",
       "82550    44000.0\n",
       "82551    55500.0\n",
       "82552    74500.0\n",
       "82553    19800.0\n",
       "Name: 거래금액(만원), Length: 82554, dtype: float64>"
      ]
     },
     "execution_count": 6,
     "metadata": {},
     "output_type": "execute_result"
    }
   ],
   "source": [
    "#거래금액 뽑기\n",
    "gj_df['거래금액(만원)'].info"
   ]
  },
  {
   "cell_type": "code",
   "execution_count": 7,
   "id": "83bf336a-ffe4-4992-8e00-e91b293df6e4",
   "metadata": {},
   "outputs": [
    {
     "data": {
      "text/plain": [
       "시군구         0\n",
       "단지명         0\n",
       "전용면적(㎡)     0\n",
       "계약년월        0\n",
       "거래금액(만원)    0\n",
       "층           0\n",
       "건축년도        0\n",
       "dtype: int64"
      ]
     },
     "execution_count": 7,
     "metadata": {},
     "output_type": "execute_result"
    }
   ],
   "source": [
    "#null 값 제거\n",
    "gj_df = gj_df.dropna()\n",
    "gj_df.isnull().sum()"
   ]
  },
  {
   "cell_type": "code",
   "execution_count": 8,
   "id": "6ee060da-d3b2-4fe8-a0fe-8aa6a7020951",
   "metadata": {
    "scrolled": true
   },
   "outputs": [
    {
     "data": {
      "text/plain": [
       "7689     213000.0\n",
       "57466    204000.0\n",
       "57474    204000.0\n",
       "16630    198000.0\n",
       "18984    191000.0\n",
       "           ...   \n",
       "26896      3100.0\n",
       "74888      3000.0\n",
       "35167      3000.0\n",
       "13367      3000.0\n",
       "13295      2100.0\n",
       "Name: 거래금액(만원), Length: 82554, dtype: float64"
      ]
     },
     "execution_count": 8,
     "metadata": {},
     "output_type": "execute_result"
    }
   ],
   "source": [
    "#거래금액 정렬\n",
    "gj_df['거래금액(만원)'].sort_values(ascending = False)"
   ]
  },
  {
   "cell_type": "code",
   "execution_count": 9,
   "id": "ac945adb-80ff-4ba4-bfed-e45cb2c56a58",
   "metadata": {
    "scrolled": true
   },
   "outputs": [
    {
     "data": {
      "text/html": [
       "<div>\n",
       "<style scoped>\n",
       "    .dataframe tbody tr th:only-of-type {\n",
       "        vertical-align: middle;\n",
       "    }\n",
       "\n",
       "    .dataframe tbody tr th {\n",
       "        vertical-align: top;\n",
       "    }\n",
       "\n",
       "    .dataframe thead th {\n",
       "        text-align: right;\n",
       "    }\n",
       "</style>\n",
       "<table border=\"1\" class=\"dataframe\">\n",
       "  <thead>\n",
       "    <tr style=\"text-align: right;\">\n",
       "      <th></th>\n",
       "      <th>시군구</th>\n",
       "      <th>단지명</th>\n",
       "      <th>전용면적(㎡)</th>\n",
       "      <th>계약년월</th>\n",
       "      <th>거래금액(만원)</th>\n",
       "      <th>층</th>\n",
       "      <th>건축년도</th>\n",
       "    </tr>\n",
       "  </thead>\n",
       "  <tbody>\n",
       "    <tr>\n",
       "      <th>0</th>\n",
       "      <td>광주광역시 광산구 월계동</td>\n",
       "      <td>첨단라인1</td>\n",
       "      <td>60.0000</td>\n",
       "      <td>202212.0</td>\n",
       "      <td>24500.0</td>\n",
       "      <td>2.0</td>\n",
       "      <td>1995.0</td>\n",
       "    </tr>\n",
       "    <tr>\n",
       "      <th>1</th>\n",
       "      <td>광주광역시 광산구 송정동</td>\n",
       "      <td>라인1</td>\n",
       "      <td>59.8200</td>\n",
       "      <td>202212.0</td>\n",
       "      <td>10800.0</td>\n",
       "      <td>9.0</td>\n",
       "      <td>1997.0</td>\n",
       "    </tr>\n",
       "    <tr>\n",
       "      <th>2</th>\n",
       "      <td>광주광역시 광산구 송정동</td>\n",
       "      <td>라인1</td>\n",
       "      <td>59.9100</td>\n",
       "      <td>202212.0</td>\n",
       "      <td>12000.0</td>\n",
       "      <td>10.0</td>\n",
       "      <td>1997.0</td>\n",
       "    </tr>\n",
       "    <tr>\n",
       "      <th>3</th>\n",
       "      <td>광주광역시 광산구 월계동</td>\n",
       "      <td>서라</td>\n",
       "      <td>59.9300</td>\n",
       "      <td>202212.0</td>\n",
       "      <td>20800.0</td>\n",
       "      <td>1.0</td>\n",
       "      <td>1995.0</td>\n",
       "    </tr>\n",
       "    <tr>\n",
       "      <th>4</th>\n",
       "      <td>광주광역시 동구 월남동</td>\n",
       "      <td>월남호반베르디움2차</td>\n",
       "      <td>59.9711</td>\n",
       "      <td>202212.0</td>\n",
       "      <td>26000.0</td>\n",
       "      <td>7.0</td>\n",
       "      <td>2016.0</td>\n",
       "    </tr>\n",
       "    <tr>\n",
       "      <th>...</th>\n",
       "      <td>...</td>\n",
       "      <td>...</td>\n",
       "      <td>...</td>\n",
       "      <td>...</td>\n",
       "      <td>...</td>\n",
       "      <td>...</td>\n",
       "      <td>...</td>\n",
       "    </tr>\n",
       "    <tr>\n",
       "      <th>82549</th>\n",
       "      <td>광주광역시 광산구 운남동</td>\n",
       "      <td>운남주공1,2단지</td>\n",
       "      <td>58.1400</td>\n",
       "      <td>202112.0</td>\n",
       "      <td>17000.0</td>\n",
       "      <td>5.0</td>\n",
       "      <td>1997.0</td>\n",
       "    </tr>\n",
       "    <tr>\n",
       "      <th>82550</th>\n",
       "      <td>광주광역시 광산구 장덕동</td>\n",
       "      <td>양우내안애</td>\n",
       "      <td>84.9423</td>\n",
       "      <td>202112.0</td>\n",
       "      <td>44000.0</td>\n",
       "      <td>16.0</td>\n",
       "      <td>2008.0</td>\n",
       "    </tr>\n",
       "    <tr>\n",
       "      <th>82551</th>\n",
       "      <td>광주광역시 광산구 장덕동</td>\n",
       "      <td>대주피오레1단지</td>\n",
       "      <td>84.9411</td>\n",
       "      <td>202112.0</td>\n",
       "      <td>55500.0</td>\n",
       "      <td>6.0</td>\n",
       "      <td>2009.0</td>\n",
       "    </tr>\n",
       "    <tr>\n",
       "      <th>82552</th>\n",
       "      <td>광주광역시 광산구 산정동</td>\n",
       "      <td>어등산대방노블랜드</td>\n",
       "      <td>133.0200</td>\n",
       "      <td>202112.0</td>\n",
       "      <td>74500.0</td>\n",
       "      <td>5.0</td>\n",
       "      <td>2013.0</td>\n",
       "    </tr>\n",
       "    <tr>\n",
       "      <th>82553</th>\n",
       "      <td>광주광역시 광산구 월곡동</td>\n",
       "      <td>금호타운</td>\n",
       "      <td>74.0000</td>\n",
       "      <td>202112.0</td>\n",
       "      <td>19800.0</td>\n",
       "      <td>6.0</td>\n",
       "      <td>1991.0</td>\n",
       "    </tr>\n",
       "  </tbody>\n",
       "</table>\n",
       "<p>82554 rows × 7 columns</p>\n",
       "</div>"
      ],
      "text/plain": [
       "                 시군구         단지명   전용면적(㎡)      계약년월  거래금액(만원)     층    건축년도\n",
       "0      광주광역시 광산구 월계동       첨단라인1   60.0000  202212.0   24500.0   2.0  1995.0\n",
       "1      광주광역시 광산구 송정동         라인1   59.8200  202212.0   10800.0   9.0  1997.0\n",
       "2      광주광역시 광산구 송정동         라인1   59.9100  202212.0   12000.0  10.0  1997.0\n",
       "3      광주광역시 광산구 월계동          서라   59.9300  202212.0   20800.0   1.0  1995.0\n",
       "4       광주광역시 동구 월남동  월남호반베르디움2차   59.9711  202212.0   26000.0   7.0  2016.0\n",
       "...              ...         ...       ...       ...       ...   ...     ...\n",
       "82549  광주광역시 광산구 운남동   운남주공1,2단지   58.1400  202112.0   17000.0   5.0  1997.0\n",
       "82550  광주광역시 광산구 장덕동       양우내안애   84.9423  202112.0   44000.0  16.0  2008.0\n",
       "82551  광주광역시 광산구 장덕동    대주피오레1단지   84.9411  202112.0   55500.0   6.0  2009.0\n",
       "82552  광주광역시 광산구 산정동   어등산대방노블랜드  133.0200  202112.0   74500.0   5.0  2013.0\n",
       "82553  광주광역시 광산구 월곡동        금호타운   74.0000  202112.0   19800.0   6.0  1991.0\n",
       "\n",
       "[82554 rows x 7 columns]"
      ]
     },
     "execution_count": 9,
     "metadata": {},
     "output_type": "execute_result"
    }
   ],
   "source": [
    "gj_df"
   ]
  },
  {
   "cell_type": "code",
   "execution_count": 10,
   "id": "aa84ebb9-395e-43ca-b2b8-6f331e2f6cc5",
   "metadata": {},
   "outputs": [
    {
     "data": {
      "text/html": [
       "<div>\n",
       "<style scoped>\n",
       "    .dataframe tbody tr th:only-of-type {\n",
       "        vertical-align: middle;\n",
       "    }\n",
       "\n",
       "    .dataframe tbody tr th {\n",
       "        vertical-align: top;\n",
       "    }\n",
       "\n",
       "    .dataframe thead th {\n",
       "        text-align: right;\n",
       "    }\n",
       "</style>\n",
       "<table border=\"1\" class=\"dataframe\">\n",
       "  <thead>\n",
       "    <tr style=\"text-align: right;\">\n",
       "      <th></th>\n",
       "      <th>거래금액(만원)</th>\n",
       "    </tr>\n",
       "    <tr>\n",
       "      <th>시군구</th>\n",
       "      <th></th>\n",
       "    </tr>\n",
       "  </thead>\n",
       "  <tbody>\n",
       "    <tr>\n",
       "      <th>광주광역시 광산구 도산동</th>\n",
       "      <td>831</td>\n",
       "    </tr>\n",
       "    <tr>\n",
       "      <th>광주광역시 광산구 도천동</th>\n",
       "      <td>327</td>\n",
       "    </tr>\n",
       "    <tr>\n",
       "      <th>광주광역시 광산구 비아동</th>\n",
       "      <td>342</td>\n",
       "    </tr>\n",
       "    <tr>\n",
       "      <th>광주광역시 광산구 산월동</th>\n",
       "      <td>1113</td>\n",
       "    </tr>\n",
       "    <tr>\n",
       "      <th>광주광역시 광산구 산정동</th>\n",
       "      <td>977</td>\n",
       "    </tr>\n",
       "    <tr>\n",
       "      <th>...</th>\n",
       "      <td>...</td>\n",
       "    </tr>\n",
       "    <tr>\n",
       "      <th>광주광역시 서구 양동</th>\n",
       "      <td>399</td>\n",
       "    </tr>\n",
       "    <tr>\n",
       "      <th>광주광역시 서구 유촌동</th>\n",
       "      <td>650</td>\n",
       "    </tr>\n",
       "    <tr>\n",
       "      <th>광주광역시 서구 치평동</th>\n",
       "      <td>2030</td>\n",
       "    </tr>\n",
       "    <tr>\n",
       "      <th>광주광역시 서구 풍암동</th>\n",
       "      <td>2642</td>\n",
       "    </tr>\n",
       "    <tr>\n",
       "      <th>광주광역시 서구 화정동</th>\n",
       "      <td>3249</td>\n",
       "    </tr>\n",
       "  </tbody>\n",
       "</table>\n",
       "<p>85 rows × 1 columns</p>\n",
       "</div>"
      ],
      "text/plain": [
       "               거래금액(만원)\n",
       "시군구                    \n",
       "광주광역시 광산구 도산동       831\n",
       "광주광역시 광산구 도천동       327\n",
       "광주광역시 광산구 비아동       342\n",
       "광주광역시 광산구 산월동      1113\n",
       "광주광역시 광산구 산정동       977\n",
       "...                 ...\n",
       "광주광역시 서구 양동         399\n",
       "광주광역시 서구 유촌동        650\n",
       "광주광역시 서구 치평동       2030\n",
       "광주광역시 서구 풍암동       2642\n",
       "광주광역시 서구 화정동       3249\n",
       "\n",
       "[85 rows x 1 columns]"
      ]
     },
     "execution_count": 10,
     "metadata": {},
     "output_type": "execute_result"
    }
   ],
   "source": [
    "#시군구별 거래 금맥 추출\n",
    "gj_c= gj_df[['시군구', '거래금액(만원)']].groupby('시군구').count()\n",
    "gj_c"
   ]
  },
  {
   "cell_type": "code",
   "execution_count": 11,
   "id": "60fda116-ffcf-46e6-b2e2-0a3af7b6db33",
   "metadata": {},
   "outputs": [
    {
     "data": {
      "text/html": [
       "<div>\n",
       "<style scoped>\n",
       "    .dataframe tbody tr th:only-of-type {\n",
       "        vertical-align: middle;\n",
       "    }\n",
       "\n",
       "    .dataframe tbody tr th {\n",
       "        vertical-align: top;\n",
       "    }\n",
       "\n",
       "    .dataframe thead th {\n",
       "        text-align: right;\n",
       "    }\n",
       "</style>\n",
       "<table border=\"1\" class=\"dataframe\">\n",
       "  <thead>\n",
       "    <tr style=\"text-align: right;\">\n",
       "      <th></th>\n",
       "      <th>거래횟수</th>\n",
       "    </tr>\n",
       "    <tr>\n",
       "      <th>시군구</th>\n",
       "      <th></th>\n",
       "    </tr>\n",
       "  </thead>\n",
       "  <tbody>\n",
       "    <tr>\n",
       "      <th>광주광역시 광산구 도산동</th>\n",
       "      <td>831</td>\n",
       "    </tr>\n",
       "    <tr>\n",
       "      <th>광주광역시 광산구 도천동</th>\n",
       "      <td>327</td>\n",
       "    </tr>\n",
       "    <tr>\n",
       "      <th>광주광역시 광산구 비아동</th>\n",
       "      <td>342</td>\n",
       "    </tr>\n",
       "    <tr>\n",
       "      <th>광주광역시 광산구 산월동</th>\n",
       "      <td>1113</td>\n",
       "    </tr>\n",
       "    <tr>\n",
       "      <th>광주광역시 광산구 산정동</th>\n",
       "      <td>977</td>\n",
       "    </tr>\n",
       "    <tr>\n",
       "      <th>...</th>\n",
       "      <td>...</td>\n",
       "    </tr>\n",
       "    <tr>\n",
       "      <th>광주광역시 서구 양동</th>\n",
       "      <td>399</td>\n",
       "    </tr>\n",
       "    <tr>\n",
       "      <th>광주광역시 서구 유촌동</th>\n",
       "      <td>650</td>\n",
       "    </tr>\n",
       "    <tr>\n",
       "      <th>광주광역시 서구 치평동</th>\n",
       "      <td>2030</td>\n",
       "    </tr>\n",
       "    <tr>\n",
       "      <th>광주광역시 서구 풍암동</th>\n",
       "      <td>2642</td>\n",
       "    </tr>\n",
       "    <tr>\n",
       "      <th>광주광역시 서구 화정동</th>\n",
       "      <td>3249</td>\n",
       "    </tr>\n",
       "  </tbody>\n",
       "</table>\n",
       "<p>85 rows × 1 columns</p>\n",
       "</div>"
      ],
      "text/plain": [
       "               거래횟수\n",
       "시군구                \n",
       "광주광역시 광산구 도산동   831\n",
       "광주광역시 광산구 도천동   327\n",
       "광주광역시 광산구 비아동   342\n",
       "광주광역시 광산구 산월동  1113\n",
       "광주광역시 광산구 산정동   977\n",
       "...             ...\n",
       "광주광역시 서구 양동     399\n",
       "광주광역시 서구 유촌동    650\n",
       "광주광역시 서구 치평동   2030\n",
       "광주광역시 서구 풍암동   2642\n",
       "광주광역시 서구 화정동   3249\n",
       "\n",
       "[85 rows x 1 columns]"
      ]
     },
     "execution_count": 11,
     "metadata": {},
     "output_type": "execute_result"
    }
   ],
   "source": [
    "#시군구별 거래 횟수\n",
    "gj_c.rename(columns ={'거래금액(만원)':'거래횟수'},inplace = True)\n",
    "gj_c"
   ]
  },
  {
   "cell_type": "code",
   "execution_count": 12,
   "id": "81736073-4af7-479f-8eeb-336585131d68",
   "metadata": {},
   "outputs": [
    {
     "data": {
      "text/html": [
       "<div>\n",
       "<style scoped>\n",
       "    .dataframe tbody tr th:only-of-type {\n",
       "        vertical-align: middle;\n",
       "    }\n",
       "\n",
       "    .dataframe tbody tr th {\n",
       "        vertical-align: top;\n",
       "    }\n",
       "\n",
       "    .dataframe thead th {\n",
       "        text-align: right;\n",
       "    }\n",
       "</style>\n",
       "<table border=\"1\" class=\"dataframe\">\n",
       "  <thead>\n",
       "    <tr style=\"text-align: right;\">\n",
       "      <th></th>\n",
       "      <th>거래금액(만원)</th>\n",
       "    </tr>\n",
       "    <tr>\n",
       "      <th>시군구</th>\n",
       "      <th></th>\n",
       "    </tr>\n",
       "  </thead>\n",
       "  <tbody>\n",
       "    <tr>\n",
       "      <th>광주광역시 광산구 도산동</th>\n",
       "      <td>15313.884477</td>\n",
       "    </tr>\n",
       "    <tr>\n",
       "      <th>광주광역시 광산구 도천동</th>\n",
       "      <td>9290.688073</td>\n",
       "    </tr>\n",
       "    <tr>\n",
       "      <th>광주광역시 광산구 비아동</th>\n",
       "      <td>9921.473684</td>\n",
       "    </tr>\n",
       "    <tr>\n",
       "      <th>광주광역시 광산구 산월동</th>\n",
       "      <td>27292.027853</td>\n",
       "    </tr>\n",
       "    <tr>\n",
       "      <th>광주광역시 광산구 산정동</th>\n",
       "      <td>30049.969294</td>\n",
       "    </tr>\n",
       "    <tr>\n",
       "      <th>...</th>\n",
       "      <td>...</td>\n",
       "    </tr>\n",
       "    <tr>\n",
       "      <th>광주광역시 서구 양동</th>\n",
       "      <td>21293.659148</td>\n",
       "    </tr>\n",
       "    <tr>\n",
       "      <th>광주광역시 서구 유촌동</th>\n",
       "      <td>18311.215385</td>\n",
       "    </tr>\n",
       "    <tr>\n",
       "      <th>광주광역시 서구 치평동</th>\n",
       "      <td>32353.936453</td>\n",
       "    </tr>\n",
       "    <tr>\n",
       "      <th>광주광역시 서구 풍암동</th>\n",
       "      <td>24704.432248</td>\n",
       "    </tr>\n",
       "    <tr>\n",
       "      <th>광주광역시 서구 화정동</th>\n",
       "      <td>30917.604494</td>\n",
       "    </tr>\n",
       "  </tbody>\n",
       "</table>\n",
       "<p>85 rows × 1 columns</p>\n",
       "</div>"
      ],
      "text/plain": [
       "                   거래금액(만원)\n",
       "시군구                        \n",
       "광주광역시 광산구 도산동  15313.884477\n",
       "광주광역시 광산구 도천동   9290.688073\n",
       "광주광역시 광산구 비아동   9921.473684\n",
       "광주광역시 광산구 산월동  27292.027853\n",
       "광주광역시 광산구 산정동  30049.969294\n",
       "...                     ...\n",
       "광주광역시 서구 양동    21293.659148\n",
       "광주광역시 서구 유촌동   18311.215385\n",
       "광주광역시 서구 치평동   32353.936453\n",
       "광주광역시 서구 풍암동   24704.432248\n",
       "광주광역시 서구 화정동   30917.604494\n",
       "\n",
       "[85 rows x 1 columns]"
      ]
     },
     "execution_count": 12,
     "metadata": {},
     "output_type": "execute_result"
    }
   ],
   "source": [
    "#시군구별 거래 금액평균\n",
    "gj_df[['시군구', '거래금액(만원)']].groupby('시군구').mean()"
   ]
  },
  {
   "cell_type": "code",
   "execution_count": 13,
   "id": "4f268bfe-9ec5-4acd-8bc4-468232f00de2",
   "metadata": {},
   "outputs": [],
   "source": [
    "#시군구별 거래 금액평균 병합\n",
    "gi_dfm = gj_df[['시군구', '거래금액(만원)']].groupby('시군구').mean()"
   ]
  },
  {
   "cell_type": "code",
   "execution_count": 14,
   "id": "0e7278e1-0a30-484e-865f-e76c000a625c",
   "metadata": {},
   "outputs": [
    {
     "data": {
      "text/html": [
       "<div>\n",
       "<style scoped>\n",
       "    .dataframe tbody tr th:only-of-type {\n",
       "        vertical-align: middle;\n",
       "    }\n",
       "\n",
       "    .dataframe tbody tr th {\n",
       "        vertical-align: top;\n",
       "    }\n",
       "\n",
       "    .dataframe thead th {\n",
       "        text-align: right;\n",
       "    }\n",
       "</style>\n",
       "<table border=\"1\" class=\"dataframe\">\n",
       "  <thead>\n",
       "    <tr style=\"text-align: right;\">\n",
       "      <th></th>\n",
       "      <th>거래횟수</th>\n",
       "      <th>거래금액(만원)</th>\n",
       "    </tr>\n",
       "    <tr>\n",
       "      <th>시군구</th>\n",
       "      <th></th>\n",
       "      <th></th>\n",
       "    </tr>\n",
       "  </thead>\n",
       "  <tbody>\n",
       "    <tr>\n",
       "      <th>광주광역시 동구 동명동</th>\n",
       "      <td>1</td>\n",
       "      <td>13500.000000</td>\n",
       "    </tr>\n",
       "    <tr>\n",
       "      <th>광주광역시 동구 대인동</th>\n",
       "      <td>2</td>\n",
       "      <td>19000.000000</td>\n",
       "    </tr>\n",
       "    <tr>\n",
       "      <th>광주광역시 동구 금남로2가</th>\n",
       "      <td>3</td>\n",
       "      <td>19400.000000</td>\n",
       "    </tr>\n",
       "    <tr>\n",
       "      <th>광주광역시 동구 금남로3가</th>\n",
       "      <td>10</td>\n",
       "      <td>10650.000000</td>\n",
       "    </tr>\n",
       "    <tr>\n",
       "      <th>광주광역시 남구 압촌동</th>\n",
       "      <td>14</td>\n",
       "      <td>33207.142857</td>\n",
       "    </tr>\n",
       "    <tr>\n",
       "      <th>...</th>\n",
       "      <td>...</td>\n",
       "      <td>...</td>\n",
       "    </tr>\n",
       "    <tr>\n",
       "      <th>광주광역시 북구 운암동</th>\n",
       "      <td>2922</td>\n",
       "      <td>26571.261465</td>\n",
       "    </tr>\n",
       "    <tr>\n",
       "      <th>광주광역시 남구 봉선동</th>\n",
       "      <td>3052</td>\n",
       "      <td>44756.587156</td>\n",
       "    </tr>\n",
       "    <tr>\n",
       "      <th>광주광역시 북구 문흥동</th>\n",
       "      <td>3099</td>\n",
       "      <td>13978.922233</td>\n",
       "    </tr>\n",
       "    <tr>\n",
       "      <th>광주광역시 서구 금호동</th>\n",
       "      <td>3140</td>\n",
       "      <td>26239.831210</td>\n",
       "    </tr>\n",
       "    <tr>\n",
       "      <th>광주광역시 서구 화정동</th>\n",
       "      <td>3249</td>\n",
       "      <td>30917.604494</td>\n",
       "    </tr>\n",
       "  </tbody>\n",
       "</table>\n",
       "<p>85 rows × 2 columns</p>\n",
       "</div>"
      ],
      "text/plain": [
       "                거래횟수      거래금액(만원)\n",
       "시군구                               \n",
       "광주광역시 동구 동명동       1  13500.000000\n",
       "광주광역시 동구 대인동       2  19000.000000\n",
       "광주광역시 동구 금남로2가     3  19400.000000\n",
       "광주광역시 동구 금남로3가    10  10650.000000\n",
       "광주광역시 남구 압촌동      14  33207.142857\n",
       "...              ...           ...\n",
       "광주광역시 북구 운암동    2922  26571.261465\n",
       "광주광역시 남구 봉선동    3052  44756.587156\n",
       "광주광역시 북구 문흥동    3099  13978.922233\n",
       "광주광역시 서구 금호동    3140  26239.831210\n",
       "광주광역시 서구 화정동    3249  30917.604494\n",
       "\n",
       "[85 rows x 2 columns]"
      ]
     },
     "execution_count": 14,
     "metadata": {},
     "output_type": "execute_result"
    }
   ],
   "source": [
    "#동별 거래횟수 및 거래 금액(만원)\n",
    "gj_df=pd.concat([gj_c,gi_dfm],axis=1)\n",
    "gj_df.sort_values(\"거래횟수\")"
   ]
  },
  {
   "cell_type": "code",
   "execution_count": 15,
   "id": "c7b53bab-6f46-4df4-9b61-4b9effc717c8",
   "metadata": {},
   "outputs": [],
   "source": [
    "#초기화\n",
    "gj_df = pd.read_csv(\"./gwangju_apt.csv\",encoding = 'utf-8',thousands = ',')"
   ]
  },
  {
   "cell_type": "code",
   "execution_count": 16,
   "id": "88a09907-140c-4659-9938-8a779ed8892d",
   "metadata": {},
   "outputs": [
    {
     "data": {
      "text/html": [
       "<div>\n",
       "<style scoped>\n",
       "    .dataframe tbody tr th:only-of-type {\n",
       "        vertical-align: middle;\n",
       "    }\n",
       "\n",
       "    .dataframe tbody tr th {\n",
       "        vertical-align: top;\n",
       "    }\n",
       "\n",
       "    .dataframe thead th {\n",
       "        text-align: right;\n",
       "    }\n",
       "</style>\n",
       "<table border=\"1\" class=\"dataframe\">\n",
       "  <thead>\n",
       "    <tr style=\"text-align: right;\">\n",
       "      <th></th>\n",
       "      <th>시군구</th>\n",
       "      <th>단지명</th>\n",
       "      <th>전용면적(㎡)</th>\n",
       "      <th>계약년월</th>\n",
       "      <th>거래금액(만원)</th>\n",
       "      <th>층</th>\n",
       "      <th>건축년도</th>\n",
       "    </tr>\n",
       "  </thead>\n",
       "  <tbody>\n",
       "    <tr>\n",
       "      <th>7689</th>\n",
       "      <td>광주광역시 남구 봉선동</td>\n",
       "      <td>봉선동한국아델리움57</td>\n",
       "      <td>166.87</td>\n",
       "      <td>202204.0</td>\n",
       "      <td>213000</td>\n",
       "      <td>11.0</td>\n",
       "      <td>2021.0</td>\n",
       "    </tr>\n",
       "  </tbody>\n",
       "</table>\n",
       "</div>"
      ],
      "text/plain": [
       "               시군구          단지명  전용면적(㎡)      계약년월  거래금액(만원)     층    건축년도\n",
       "7689  광주광역시 남구 봉선동  봉선동한국아델리움57   166.87  202204.0    213000  11.0  2021.0"
      ]
     },
     "execution_count": 16,
     "metadata": {},
     "output_type": "execute_result"
    }
   ],
   "source": [
    "#최고 매매 아파트 정보\n",
    "gj_df[\"거래금액(만원)\"].max()\n",
    "gj_df[gj_df[\"거래금액(만원)\"]==gj_df[\"거래금액(만원)\"].max()]"
   ]
  },
  {
   "cell_type": "code",
   "execution_count": 17,
   "id": "15afe007-3950-48b3-9813-e7700ead4fd7",
   "metadata": {},
   "outputs": [
    {
     "data": {
      "text/html": [
       "<div>\n",
       "<style scoped>\n",
       "    .dataframe tbody tr th:only-of-type {\n",
       "        vertical-align: middle;\n",
       "    }\n",
       "\n",
       "    .dataframe tbody tr th {\n",
       "        vertical-align: top;\n",
       "    }\n",
       "\n",
       "    .dataframe thead th {\n",
       "        text-align: right;\n",
       "    }\n",
       "</style>\n",
       "<table border=\"1\" class=\"dataframe\">\n",
       "  <thead>\n",
       "    <tr style=\"text-align: right;\">\n",
       "      <th></th>\n",
       "      <th>시군구</th>\n",
       "      <th>단지명</th>\n",
       "      <th>전용면적(㎡)</th>\n",
       "      <th>계약년월</th>\n",
       "      <th>거래금액(만원)</th>\n",
       "      <th>층</th>\n",
       "      <th>건축년도</th>\n",
       "    </tr>\n",
       "  </thead>\n",
       "  <tbody>\n",
       "    <tr>\n",
       "      <th>13295</th>\n",
       "      <td>광주광역시 북구 두암동</td>\n",
       "      <td>삼호</td>\n",
       "      <td>59.34</td>\n",
       "      <td>202312.0</td>\n",
       "      <td>2100</td>\n",
       "      <td>3.0</td>\n",
       "      <td>1985.0</td>\n",
       "    </tr>\n",
       "  </tbody>\n",
       "</table>\n",
       "</div>"
      ],
      "text/plain": [
       "                시군구 단지명  전용면적(㎡)      계약년월  거래금액(만원)    층    건축년도\n",
       "13295  광주광역시 북구 두암동  삼호    59.34  202312.0      2100  3.0  1985.0"
      ]
     },
     "execution_count": 17,
     "metadata": {},
     "output_type": "execute_result"
    }
   ],
   "source": [
    "#최저 매매 아파트 정보\n",
    "gj_df[\"거래금액(만원)\"].min()\n",
    "gj_df[gj_df[\"거래금액(만원)\"]==gj_df[\"거래금액(만원)\"].min()]"
   ]
  },
  {
   "cell_type": "code",
   "execution_count": null,
   "id": "21be52e5-32c2-4da1-ac02-0899bcaaaa4e",
   "metadata": {},
   "outputs": [],
   "source": []
  },
  {
   "cell_type": "code",
   "execution_count": 18,
   "id": "e7c8f8bb-3339-49da-88a6-ac870648b15c",
   "metadata": {},
   "outputs": [
    {
     "data": {
      "text/html": [
       "<div>\n",
       "<style scoped>\n",
       "    .dataframe tbody tr th:only-of-type {\n",
       "        vertical-align: middle;\n",
       "    }\n",
       "\n",
       "    .dataframe tbody tr th {\n",
       "        vertical-align: top;\n",
       "    }\n",
       "\n",
       "    .dataframe thead th {\n",
       "        text-align: right;\n",
       "    }\n",
       "</style>\n",
       "<table border=\"1\" class=\"dataframe\">\n",
       "  <thead>\n",
       "    <tr style=\"text-align: right;\">\n",
       "      <th></th>\n",
       "      <th>시군구</th>\n",
       "      <th>단지명</th>\n",
       "      <th>전용면적(㎡)</th>\n",
       "      <th>계약년월</th>\n",
       "      <th>거래금액(만원)</th>\n",
       "      <th>층</th>\n",
       "      <th>건축년도</th>\n",
       "    </tr>\n",
       "  </thead>\n",
       "  <tbody>\n",
       "    <tr>\n",
       "      <th>53623</th>\n",
       "      <td>광주광역시 북구 중흥동</td>\n",
       "      <td>제일맨션</td>\n",
       "      <td>85.7800</td>\n",
       "      <td>202012.0</td>\n",
       "      <td>9800</td>\n",
       "      <td>3.0</td>\n",
       "      <td>1976</td>\n",
       "    </tr>\n",
       "    <tr>\n",
       "      <th>62414</th>\n",
       "      <td>광주광역시 북구 중흥동</td>\n",
       "      <td>제일맨션</td>\n",
       "      <td>85.7800</td>\n",
       "      <td>202103.0</td>\n",
       "      <td>9700</td>\n",
       "      <td>5.0</td>\n",
       "      <td>1976</td>\n",
       "    </tr>\n",
       "    <tr>\n",
       "      <th>60728</th>\n",
       "      <td>광주광역시 북구 중흥동</td>\n",
       "      <td>제일맨션</td>\n",
       "      <td>85.7800</td>\n",
       "      <td>202103.0</td>\n",
       "      <td>9900</td>\n",
       "      <td>3.0</td>\n",
       "      <td>1976</td>\n",
       "    </tr>\n",
       "    <tr>\n",
       "      <th>58229</th>\n",
       "      <td>광주광역시 북구 중흥동</td>\n",
       "      <td>제일맨션</td>\n",
       "      <td>85.7800</td>\n",
       "      <td>202101.0</td>\n",
       "      <td>9000</td>\n",
       "      <td>5.0</td>\n",
       "      <td>1976</td>\n",
       "    </tr>\n",
       "    <tr>\n",
       "      <th>9822</th>\n",
       "      <td>광주광역시 북구 중흥동</td>\n",
       "      <td>제일맨션</td>\n",
       "      <td>85.7800</td>\n",
       "      <td>202203.0</td>\n",
       "      <td>11500</td>\n",
       "      <td>3.0</td>\n",
       "      <td>1976</td>\n",
       "    </tr>\n",
       "    <tr>\n",
       "      <th>...</th>\n",
       "      <td>...</td>\n",
       "      <td>...</td>\n",
       "      <td>...</td>\n",
       "      <td>...</td>\n",
       "      <td>...</td>\n",
       "      <td>...</td>\n",
       "      <td>...</td>\n",
       "    </tr>\n",
       "    <tr>\n",
       "      <th>23219</th>\n",
       "      <td>광주광역시 남구 방림동</td>\n",
       "      <td>봉선중길한국아델리움5차아파트</td>\n",
       "      <td>84.6496</td>\n",
       "      <td>202304.0</td>\n",
       "      <td>37500</td>\n",
       "      <td>16.0</td>\n",
       "      <td>2023</td>\n",
       "    </tr>\n",
       "    <tr>\n",
       "      <th>17765</th>\n",
       "      <td>광주광역시 북구 오치동</td>\n",
       "      <td>오치동광신프로그레스</td>\n",
       "      <td>84.4843</td>\n",
       "      <td>202308.0</td>\n",
       "      <td>35000</td>\n",
       "      <td>13.0</td>\n",
       "      <td>2023</td>\n",
       "    </tr>\n",
       "    <tr>\n",
       "      <th>23997</th>\n",
       "      <td>광주광역시 남구 방림동</td>\n",
       "      <td>봉선중길한국아델리움5차아파트</td>\n",
       "      <td>84.6496</td>\n",
       "      <td>202303.0</td>\n",
       "      <td>37000</td>\n",
       "      <td>3.0</td>\n",
       "      <td>2023</td>\n",
       "    </tr>\n",
       "    <tr>\n",
       "      <th>17579</th>\n",
       "      <td>광주광역시 북구 각화동</td>\n",
       "      <td>각화센트럴파크3차</td>\n",
       "      <td>59.9987</td>\n",
       "      <td>202308.0</td>\n",
       "      <td>26640</td>\n",
       "      <td>16.0</td>\n",
       "      <td>2023</td>\n",
       "    </tr>\n",
       "    <tr>\n",
       "      <th>18290</th>\n",
       "      <td>광주광역시 북구 각화동</td>\n",
       "      <td>각화센트럴파크3차</td>\n",
       "      <td>59.9987</td>\n",
       "      <td>202308.0</td>\n",
       "      <td>26771</td>\n",
       "      <td>21.0</td>\n",
       "      <td>2023</td>\n",
       "    </tr>\n",
       "  </tbody>\n",
       "</table>\n",
       "<p>82554 rows × 7 columns</p>\n",
       "</div>"
      ],
      "text/plain": [
       "                시군구              단지명  전용면적(㎡)      계약년월  거래금액(만원)     층  건축년도\n",
       "53623  광주광역시 북구 중흥동             제일맨션  85.7800  202012.0      9800   3.0  1976\n",
       "62414  광주광역시 북구 중흥동             제일맨션  85.7800  202103.0      9700   5.0  1976\n",
       "60728  광주광역시 북구 중흥동             제일맨션  85.7800  202103.0      9900   3.0  1976\n",
       "58229  광주광역시 북구 중흥동             제일맨션  85.7800  202101.0      9000   5.0  1976\n",
       "9822   광주광역시 북구 중흥동             제일맨션  85.7800  202203.0     11500   3.0  1976\n",
       "...             ...              ...      ...       ...       ...   ...   ...\n",
       "23219  광주광역시 남구 방림동  봉선중길한국아델리움5차아파트  84.6496  202304.0     37500  16.0  2023\n",
       "17765  광주광역시 북구 오치동       오치동광신프로그레스  84.4843  202308.0     35000  13.0  2023\n",
       "23997  광주광역시 남구 방림동  봉선중길한국아델리움5차아파트  84.6496  202303.0     37000   3.0  2023\n",
       "17579  광주광역시 북구 각화동        각화센트럴파크3차  59.9987  202308.0     26640  16.0  2023\n",
       "18290  광주광역시 북구 각화동        각화센트럴파크3차  59.9987  202308.0     26771  21.0  2023\n",
       "\n",
       "[82554 rows x 7 columns]"
      ]
     },
     "execution_count": 18,
     "metadata": {},
     "output_type": "execute_result"
    }
   ],
   "source": [
    "gj_df[\"건축년도\"] = gj_df[\"건축년도\"].astype(str).str[:4]\n",
    "gj_df.sort_values(\"건축년도\")"
   ]
  },
  {
   "cell_type": "code",
   "execution_count": 19,
   "id": "f2484692-c98f-4848-98f6-50b8e43294d3",
   "metadata": {},
   "outputs": [],
   "source": [
    "gj_df_1980= gj_df[(gj_df[\"건축년도\"] <= '1980')]\n",
    "gj_df_1990= gj_df[(gj_df[\"건축년도\"] <= '1990')& (gj_df[\"건축년도\"] > '1980')]\n",
    "gj_df_2000= gj_df[(gj_df[\"건축년도\"] <= '2000')&(gj_df[\"건축년도\"] > '1990')]\n",
    "gj_df_2010= gj_df[(gj_df[\"건축년도\"] <= '2010')&(gj_df[\"건축년도\"] >'2000')]\n",
    "gj_df_2020= gj_df[(gj_df[\"건축년도\"] >= '2000')]"
   ]
  },
  {
   "cell_type": "code",
   "execution_count": 20,
   "id": "b99515e2-bb7b-46fd-bfd8-4e12af2a1996",
   "metadata": {},
   "outputs": [
    {
     "data": {
      "text/plain": [
       "19994.6146179402"
      ]
     },
     "execution_count": 20,
     "metadata": {},
     "output_type": "execute_result"
    }
   ],
   "source": [
    "gj_df_1980[\"거래금액(만원)\"].mean()\n"
   ]
  },
  {
   "cell_type": "code",
   "execution_count": 21,
   "id": "7ca96e01-6cbf-4982-ba8b-ef5d0c6dc808",
   "metadata": {},
   "outputs": [
    {
     "data": {
      "text/plain": [
       "16172.932253313696"
      ]
     },
     "execution_count": 21,
     "metadata": {},
     "output_type": "execute_result"
    }
   ],
   "source": [
    "gj_df_1990[\"거래금액(만원)\"].mean()"
   ]
  },
  {
   "cell_type": "code",
   "execution_count": 22,
   "id": "474a2bf5-95dc-42e7-83d4-1d603318f567",
   "metadata": {},
   "outputs": [
    {
     "data": {
      "text/plain": [
       "17001.109797345307"
      ]
     },
     "execution_count": 22,
     "metadata": {},
     "output_type": "execute_result"
    }
   ],
   "source": [
    "gj_df_2000[\"거래금액(만원)\"].mean()\n"
   ]
  },
  {
   "cell_type": "code",
   "execution_count": 23,
   "id": "3985dfdf-e3c3-4907-b90b-c8b0a8601c1a",
   "metadata": {},
   "outputs": [
    {
     "data": {
      "text/plain": [
       "34306.82721116355"
      ]
     },
     "execution_count": 23,
     "metadata": {},
     "output_type": "execute_result"
    }
   ],
   "source": [
    "gj_df_2010[\"거래금액(만원)\"].mean()\n"
   ]
  },
  {
   "cell_type": "code",
   "execution_count": 24,
   "id": "9b710fb6-f362-4efe-95fe-ea4b6e2b75e6",
   "metadata": {},
   "outputs": [
    {
     "data": {
      "text/plain": [
       "34760.51652414039"
      ]
     },
     "execution_count": 24,
     "metadata": {},
     "output_type": "execute_result"
    }
   ],
   "source": [
    "gj_df_2020[\"거래금액(만원)\"].mean()"
   ]
  },
  {
   "cell_type": "code",
   "execution_count": 25,
   "id": "3257c12e-2b87-417e-b687-60463522a2b1",
   "metadata": {},
   "outputs": [],
   "source": [
    "# 차트에 한글을 출력하려면 인코딩 작업이 필요\n",
    "from matplotlib import rc\n",
    "rc('font', family = 'Malgun Gothic')"
   ]
  },
  {
   "cell_type": "code",
   "execution_count": 26,
   "id": "3046c2d5-342b-428b-bbf8-5315f6cdd1d2",
   "metadata": {},
   "outputs": [
    {
     "data": {
      "image/png": "[encoded data removed]",
      "text/plain": [
       "<Figure size 640x480 with 1 Axes>"
      ]
     },
     "metadata": {},
     "output_type": "display_data"
    }
   ],
   "source": [
    "labels = ['1980','1990','2000','2010', '2020']\n",
    "y = [19994.6, 16172.9, 17001.1, 34306.8, 34760.5]#전체 합이 100이되어야함\n",
    "\n",
    "plt.pie(y,labels=labels,autopct = '%.1f%%')#소수점 첫째자리까지 표시하고 뒤에 %표현하겠다\n",
    "plt.title(\"건축년도별 매매 현황\")\n",
    "plt.show()"
   ]
  },
  {
   "cell_type": "code",
   "execution_count": 53,
   "id": "f67d1b3b-a50d-49b5-9814-f077649ee231",
   "metadata": {},
   "outputs": [
    {
     "data": {
      "image/png": "[encoded data removed]",
      "text/plain": [
       "<Figure size 640x480 with 1 Axes>"
      ]
     },
     "metadata": {},
     "output_type": "display_data"
    }
   ],
   "source": [
    "#년도별 행정구 인구변화\n",
    "a = [30391,32287,27018,35655]\n",
    "b = [28954,28028,28433,30455]\n",
    "c = [31651,31886,31706,35592]\n",
    "d = [21548,20934,20750,24188]\n",
    "e = [26239,26492,24943,29398]\n",
    "x=[2020,2021,2022,2023]\n",
    "\n",
    "plt.plot(x,a, label = '동구')\n",
    "plt.plot(x,b, label = '서구')\n",
    "plt.plot(x,c, label = '남구')\n",
    "plt.plot(x,d, label = '북구')\n",
    "plt.plot(x,e, label = '광산구')\n",
    "\n",
    "   \n",
    "\n",
    "plt.xticks(range(2020,2024,1))\n",
    "# 범례 표시\n",
    "plt.legend(loc='upper left',prop ={'size': 5})\n",
    "\n",
    "# 축 이름 설정\n",
    "plt.xlabel('년도')\n",
    "plt.ylabel('거래금액')\n",
    "# 차트 제목 설정\n",
    "plt.title('년도별 행정구 금액변화')\n",
    "\n",
    "plt.show()"
   ]
  },
  {
   "cell_type": "code",
   "execution_count": 49,
   "id": "3b31c0a6-62f9-4df0-8265-5909a6f4110d",
   "metadata": {},
   "outputs": [
    {
     "data": {
      "image/png": "[encoded data removed]",
      "text/plain": [
       "<Figure size 640x480 with 1 Axes>"
      ]
     },
     "metadata": {},
     "output_type": "display_data"
    }
   ],
   "source": [
    "#년도별 행정구 인구변화\n",
    "\n",
    "x=['광산구','남구','동구','북구','서구']\n",
    "\n",
    "a= [417557,216032,104510,435063,298223]\n",
    "b= [416012,217032,105077,431587,292837]\n",
    "c= [416012,213816,107550,429573,289282]\n",
    "d= [411282,211227,108893,426867,286316]\n",
    "\n",
    "\n",
    "\n",
    "\n",
    "plt.plot(x,a, label = '2020')\n",
    "plt.plot(x,b, label = '2021')\n",
    "plt.plot(x,c, label = '2022')\n",
    "plt.plot(x,d, label = '2023')\n",
    "\n",
    "   \n",
    "\n",
    "#plt.xticks(range(2020,2024,1))\n",
    "# 범례 표시\n",
    "plt.legend(loc='upper right',prop ={'size': 10})\n",
    "plt.grid()\n",
    "# 축 이름 설정\n",
    "plt.xlabel('광주광역시수')\n",
    "plt.ylabel('인구수')\n",
    "# 차트 제목 설정\n",
    "plt.title('전체년도 광주 인구변화')\n",
    "plt.show()"
   ]
  },
  {
   "cell_type": "code",
   "execution_count": null,
   "id": "44b22c6f-d452-455d-9887-7263738ae89b",
   "metadata": {},
   "outputs": [],
   "source": [
    "a= [417557,216032,104510,435063,298223]\n",
    "b= [416012,217032,105077,431587,292837]\n",
    "c= [416012,213816,107550,429573,289282]\n",
    "d= [411282,211227,108893,426867,286316]\n",
    "\n"
   ]
  }
 ],
 "metadata": {
  "kernelspec": {
   "display_name": "Python 3 (ipykernel)",
   "language": "python",
   "name": "python3"
  },
  "language_info": {
   "codemirror_mode": {
    "name": "ipython",
    "version": 3
   },
   "file_extension": ".py",
   "mimetype": "text/x-python",
   "name": "python",
   "nbconvert_exporter": "python",
   "pygments_lexer": "ipython3",
   "version": "3.12.4"
  }
 },
 "nbformat": 4,
 "nbformat_minor": 5
}
